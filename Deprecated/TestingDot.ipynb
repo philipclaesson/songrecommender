{
 "cells": [
  {
   "cell_type": "code",
   "execution_count": 19,
   "metadata": {
    "collapsed": true
   },
   "outputs": [],
   "source": [
    "# Do all relevant imports\n",
    "import numpy as np\n",
    "import pandas as pd\n",
    "import seaborn as sns\n",
    "import matplotlib.pyplot as plt\n",
    "import scipy.sparse as sps\n",
    "import time\n",
    "import scipy\n",
    "import tables as tb"
   ]
  },
  {
   "cell_type": "code",
   "execution_count": 83,
   "metadata": {
    "collapsed": true
   },
   "outputs": [],
   "source": [
    "class Matrix_multiplicator(object): \n",
    "    def __init__(self):\n",
    "        self.bl = 500 #this is the number of rows we calculate each loop\n",
    "    \n",
    "    def dot(self, m1, m2, filename, result_format = 'csr'): \n",
    "        starttime = time.time()\n",
    "        \n",
    "        l, m, n = m1.shape[0], m1.shape[1], m2.shape[1]\n",
    "        \n",
    "        self.f = tb.open_file(filename, 'w')\n",
    "        filters = tb.Filters(complevel=5, complib='blosc')\n",
    "        \n",
    "        out_data = self.f.create_earray(self.f.root, 'data', tb.Float32Atom(), shape=(0,), filters=filters)\n",
    "        out_indices = self.f.create_earray(self.f.root, 'indices', tb.Int64Atom(),shape=(0,), filters=filters)\n",
    "        out_indptr = self.f.create_earray(self.f.root, 'indptr', tb.Int64Atom(), shape=(0,), filters=filters)\n",
    "        out_data.append(np.zeros(m1.shape[0]*m2.shape[1],))\n",
    "        out_indices.append(np.zeros(m1.shape[0]*m2.shape[1],))\n",
    "        out_indptr.append(np.zeros(m1.shape[0]*m2.shape[1],))\n",
    "        \n",
    "\n",
    "        out_indptr.append(np.array([0])) #this is needed as a first indptr\n",
    "        max_indptr = 0\n",
    "        print(\"Heading into loop. %s sec\"%(time.time()-starttime))\n",
    "        cp = time.time()\n",
    "        count = 0\n",
    "        for i in range(0, l, self.bl):\n",
    "            if i % 5000 == 0 or i == 500: \n",
    "                print(\"Row %s out of %s, %s min.\"%(i, l, (time.time()-cp)/60))\n",
    "                cp = time.time()\n",
    "            res = m1[i:min(i+self.bl, l),:].dot(m2)\n",
    "            #out_data.append(res.data)\n",
    "            out_data[count:count+len(res.data)]\n",
    "            indices = res.indices\n",
    "            indptr = res.indptr\n",
    "            #out_indices.append(indices)\n",
    "            out_indices[count:count+len(indices)] = indices\n",
    "            #out_indptr.append(max_indptr+indptr[1:])\n",
    "            out_indptr[count:count+len(indptr)] = indptr\n",
    "            max_indptr += indices.shape[0]\n",
    "            count += len(res.data)\n",
    "            \n",
    "        if result_format == 'csr': \n",
    "            m = sps.csr_matrix((self.f.root.data[:], self.f.root.indices[:], self.f.root.indptr[:l+1]), shape=(l,n))\n",
    "        elif result_format == 'csc': \n",
    "            m = sps.csc_matrix((self.f.root.data[:], self.f.root.indices[:], self.f.root.indptr[:l+1]), shape=(l,n))\n",
    "        \n",
    "        self.f.close()\n",
    "        print(\"Calculated m.dot() to %s. %s sec\" %(filename, time.time()-starttime))\n",
    "        \n",
    "    def get_result(self, filename, l, n, result_format = 'csr'):\n",
    "        self.h5 = tb.open_file(filename, 'r')\n",
    "        if result_format == 'csr':\n",
    "            m = sps.csr_matrix((self.h5.root.data[:], self.h5.root.indices[:], self.h5.root.indptr[:l+1]), shape=(l,n))\n",
    "        elif result_format == 'csc': \n",
    "            m = sps.csc_matrix((self.h5.root.data[:], self.h5.root.indices[:], self.h5.root.indptr[:l+1]), shape=(l,n))\n",
    "        self.h5.close()\n",
    "        return m\n",
    "m = Matrix_multiplicator()"
   ]
  },
  {
   "cell_type": "code",
   "execution_count": 84,
   "metadata": {
    "collapsed": true
   },
   "outputs": [],
   "source": [
    "a = sps.rand(50, 100).tocsr()\n",
    "b = sps.rand(100, 200).tocsc()"
   ]
  },
  {
   "cell_type": "code",
   "execution_count": 85,
   "metadata": {},
   "outputs": [],
   "source": [
    "#m.f.close()"
   ]
  },
  {
   "cell_type": "code",
   "execution_count": 89,
   "metadata": {},
   "outputs": [
    {
     "name": "stdout",
     "output_type": "stream",
     "text": [
      "50\n",
      "200\n",
      "90\n",
      "  (0, 153)\t0.0\n",
      "  (0, 63)\t0.0\n",
      "  (0, 22)\t0.0\n",
      "  (1, 46)\t0.0\n",
      "  (2, 165)\t0.0\n",
      "  (2, 80)\t0.0\n",
      "  (3, 94)\t0.0\n",
      "  (5, 169)\t0.0\n",
      "  (5, 86)\t0.0\n",
      "  (12, 124)\t0.0\n",
      "  (13, 22)\t0.0\n",
      "  (15, 166)\t0.0\n",
      "  (15, 41)\t0.0\n",
      "  (15, 191)\t0.0\n",
      "  (15, 162)\t0.0\n",
      "  (15, 10)\t0.0\n",
      "  (16, 90)\t0.0\n",
      "  (19, 46)\t0.0\n",
      "  (21, 141)\t0.0\n",
      "  (21, 115)\t0.0\n",
      "  (21, 77)\t0.0\n",
      "  (21, 47)\t0.0\n",
      "  (22, 185)\t0.0\n",
      "  (23, 139)\t0.0\n",
      "  (23, 5)\t0.0\n",
      "  :\t:\n",
      "  (38, 85)\t0.0\n",
      "  (39, 156)\t0.0\n",
      "  (39, 101)\t0.0\n",
      "  (39, 46)\t0.0\n",
      "  (39, 9)\t0.0\n",
      "  (42, 85)\t0.0\n",
      "  (42, 47)\t0.0\n",
      "  (43, 156)\t0.0\n",
      "  (43, 72)\t0.0\n",
      "  (43, 14)\t0.0\n",
      "  (43, 169)\t0.0\n",
      "  (43, 86)\t0.0\n",
      "  (45, 126)\t0.0\n",
      "  (45, 123)\t0.0\n",
      "  (45, 86)\t0.0\n",
      "  (46, 155)\t0.0\n",
      "  (48, 131)\t0.0\n",
      "  (48, 18)\t0.0\n",
      "  (49, 115)\t0.0\n",
      "  (49, 77)\t0.0\n",
      "  (49, 163)\t0.0\n",
      "  (49, 88)\t0.0\n",
      "  (49, 60)\t0.0\n",
      "  (49, 46)\t0.0\n",
      "  (49, 8)\t0.0\n"
     ]
    }
   ],
   "source": [
    "#m.dot(a,b,'h5/tes7.h5')\n",
    "c = (m.get_result('h5/tes7.h5', 50, 200))\n",
    "print(a.nnz)\n",
    "print(b.nnz)\n",
    "print(c.nnz)\n",
    "print(c)"
   ]
  },
  {
   "cell_type": "code",
   "execution_count": null,
   "metadata": {
    "collapsed": true
   },
   "outputs": [],
   "source": []
  }
 ],
 "metadata": {
  "kernelspec": {
   "display_name": "Python 3",
   "language": "python",
   "name": "python3"
  },
  "language_info": {
   "codemirror_mode": {
    "name": "ipython",
    "version": 3
   },
   "file_extension": ".py",
   "mimetype": "text/x-python",
   "name": "python",
   "nbconvert_exporter": "python",
   "pygments_lexer": "ipython3",
   "version": "3.6.2"
  }
 },
 "nbformat": 4,
 "nbformat_minor": 2
}
