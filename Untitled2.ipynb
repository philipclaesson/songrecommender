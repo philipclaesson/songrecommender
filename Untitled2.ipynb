{
 "cells": [
  {
   "cell_type": "code",
   "execution_count": 5,
   "metadata": {},
   "outputs": [
    {
     "name": "stdout",
     "output_type": "stream",
     "text": [
      "Libs imported.\n"
     ]
    }
   ],
   "source": [
    "# Do all relevant imports\n",
    "import numpy as np\n",
    "import pandas as pd\n",
    "import seaborn as sns\n",
    "import matplotlib.pyplot as plt\n",
    "import scipy.sparse as sps\n",
    "import time\n",
    "import scipy\n",
    "%matplotlib inline\n",
    "print(\"Libs imported.\")"
   ]
  },
  {
   "cell_type": "code",
   "execution_count": 6,
   "metadata": {},
   "outputs": [
    {
     "name": "stdout",
     "output_type": "stream",
     "text": [
      "Loaded ISM in 0.560034990310669 sec. \n"
     ]
    }
   ],
   "source": [
    "filename = 'Saved Matrixes/ISM_top_k_100.npz'\n",
    "starttime = time.time()\n",
    "ISM = sps.load_npz(filename)\n",
    "print(\"Loaded ISM in %s sec. \"%(time.time()-starttime))"
   ]
  },
  {
   "cell_type": "code",
   "execution_count": 7,
   "metadata": {},
   "outputs": [
    {
     "data": {
      "text/plain": [
       "inf"
      ]
     },
     "execution_count": 7,
     "metadata": {},
     "output_type": "execute_result"
    }
   ],
   "source": [
    "ISM[0,0]"
   ]
  },
  {
   "cell_type": "code",
   "execution_count": 10,
   "metadata": {},
   "outputs": [],
   "source": [
    "\n",
    "k = 100\n",
    "step = 0\n",
    "stepsize = 100000\n",
    "totsize = 100000\n",
    "rows = np.zeros(totsize*k)\n",
    "cols = np.zeros(totsize*k)\n",
    "vals = np.zeros(totsize*k)\n",
    "filename = 'output/arrays_%s_%s.npz'%(k, step*stepsize)\n",
    "npzfile = np.load(filename)\n",
    "rows[step*k*stepsize:(step+1)*k*stepsize] = npzfile['arr_0']\n",
    "cols[step*k*stepsize:(step+1)*k*stepsize] = npzfile['arr_1']\n",
    "vals[step*k*stepsize:(step+1)*k*stepsize] = npzfile['arr_2']"
   ]
  },
  {
   "cell_type": "code",
   "execution_count": 13,
   "metadata": {},
   "outputs": [
    {
     "data": {
      "text/plain": [
       "88856.0"
      ]
     },
     "execution_count": 13,
     "metadata": {},
     "output_type": "execute_result"
    }
   ],
   "source": [
    "rows[0]\n",
    "cols[0]"
   ]
  },
  {
   "cell_type": "code",
   "execution_count": 14,
   "metadata": {},
   "outputs": [
    {
     "name": "stdout",
     "output_type": "stream",
     "text": [
      "Reading matrix..\n",
      "Loaded Matrix, 180.6333451271057 sec.\n"
     ]
    }
   ],
   "source": [
    "cp = time.time()\n",
    "print(\"Reading matrix..\")\n",
    "M = sps.load_npz(\"Saved Matrixes/ISM_perfect_float_1000.npz\")\n",
    "print(\"Loaded Matrix, %s sec.\" %(time.time()-cp))"
   ]
  },
  {
   "cell_type": "code",
   "execution_count": 18,
   "metadata": {},
   "outputs": [
    {
     "data": {
      "text/plain": [
       "7.0"
      ]
     },
     "execution_count": 18,
     "metadata": {},
     "output_type": "execute_result"
    }
   ],
   "source": [
    "M[1,1]"
   ]
  },
  {
   "cell_type": "code",
   "execution_count": null,
   "metadata": {
    "collapsed": true
   },
   "outputs": [],
   "source": []
  }
 ],
 "metadata": {
  "kernelspec": {
   "display_name": "Python 3",
   "language": "python",
   "name": "python3"
  },
  "language_info": {
   "codemirror_mode": {
    "name": "ipython",
    "version": 3
   },
   "file_extension": ".py",
   "mimetype": "text/x-python",
   "name": "python",
   "nbconvert_exporter": "python",
   "pygments_lexer": "ipython3",
   "version": "3.6.2"
  }
 },
 "nbformat": 4,
 "nbformat_minor": 2
}
