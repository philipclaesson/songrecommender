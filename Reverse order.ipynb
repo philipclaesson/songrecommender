{
 "cells": [
  {
   "cell_type": "code",
   "execution_count": 31,
   "metadata": {},
   "outputs": [
    {
     "name": "stdout",
     "output_type": "stream",
     "text": [
      "FIle imported\n"
     ]
    }
   ],
   "source": [
    "import pandas as pd\n",
    "import numpy as np\n",
    "wrong_order = pd.read_csv('output/wrongorder.csv', delimiter = \",\");\n",
    "zeros = np.zeros((10000, 6), dtype = int)\n",
    "right_order = pd.DataFrame(zeros)\n",
    "print(\"FIle imported\")"
   ]
  },
  {
   "cell_type": "code",
   "execution_count": 43,
   "metadata": {},
   "outputs": [
    {
     "name": "stdout",
     "output_type": "stream",
     "text": [
      "   playlist_id                                track_ids\n",
      "0     10024884    1565351 2228906 56817 1637241 2044251\n",
      "1     10624787   1980691 3562008 194963 2781579 3779369\n",
      "2      4891851    1371741 1406862 205321 557629 2089117\n",
      "3      4267369  2740798 1712316 2504992 1890831 1689809\n",
      "4        65078   1492640 2123738 2913000 119305 1742595\n",
      "          0        1        2        3        4        5\n",
      "0  10024884  2044251  1637241    56817  2228906  1565351\n",
      "1  10624787  3779369  2781579   194963  3562008  1980691\n",
      "2   4891851  2089117   557629   205321  1406862  1371741\n",
      "3   4267369  1689809  1890831  2504992  1712316  2740798\n",
      "4     65078  1742595   119305  2913000  2123738  1492640\n",
      "Saved to file \n"
     ]
    }
   ],
   "source": [
    "for i, line in enumerate(wrong_order.as_matrix()):\n",
    "    outrec = [0, 0, 0, 0, 0]\n",
    "    recs = line[1].split(\" \")\n",
    "    for j, rec in enumerate(recs): \n",
    "        outrec[4-j] = rec\n",
    "    right_order.iloc[i,1:6] = outrec\n",
    "    right_order.iloc[i,0] = line[0]\n",
    "print(wrong_order.head())\n",
    "print(right_order.head())\n",
    "\n",
    "np.savetxt(\"output/rightorder.csv\",right_order, fmt = '%s,%s %s %s %s %s', header = \"playlist_id,track_ids\", newline = \"\\n\")\n",
    "print(\"Saved to file \")\n"
   ]
  },
  {
   "cell_type": "code",
   "execution_count": null,
   "metadata": {
    "collapsed": true
   },
   "outputs": [],
   "source": []
  },
  {
   "cell_type": "code",
   "execution_count": null,
   "metadata": {
    "collapsed": true
   },
   "outputs": [],
   "source": []
  }
 ],
 "metadata": {
  "kernelspec": {
   "display_name": "Python 3",
   "language": "python",
   "name": "python3"
  },
  "language_info": {
   "codemirror_mode": {
    "name": "ipython",
    "version": 3
   },
   "file_extension": ".py",
   "mimetype": "text/x-python",
   "name": "python",
   "nbconvert_exporter": "python",
   "pygments_lexer": "ipython3",
   "version": "3.6.2"
  }
 },
 "nbformat": 4,
 "nbformat_minor": 2
}
