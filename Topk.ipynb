{
 "cells": [
  {
   "cell_type": "code",
   "execution_count": 2,
   "metadata": {},
   "outputs": [
    {
     "name": "stdout",
     "output_type": "stream",
     "text": [
      "Libs imported.\n"
     ]
    }
   ],
   "source": [
    "# Do all relevant imports\n",
    "import numpy as np\n",
    "import pandas as pd\n",
    "import seaborn as sns\n",
    "import matplotlib.pyplot as plt\n",
    "import scipy.sparse as sps\n",
    "import time\n",
    "%matplotlib inline\n",
    "print(\"Libs imported.\")"
   ]
  },
  {
   "cell_type": "code",
   "execution_count": 3,
   "metadata": {},
   "outputs": [
    {
     "name": "stdout",
     "output_type": "stream",
     "text": [
      "  (0, 0)\t0.505095922053\n",
      "  (0, 1)\t0.466373676232\n",
      "  (0, 2)\t0.994053483323\n",
      "  (0, 3)\t0.437291570171\n",
      "  (0, 4)\t0.823267553324\n",
      "  (1, 0)\t0.223245941425\n",
      "  (1, 1)\t0.874722963906\n",
      "  (1, 2)\t0.840487628015\n",
      "  (1, 3)\t0.19749195933\n",
      "  (1, 4)\t0.447722705284\n",
      "  (2, 0)\t0.80813155954\n",
      "  (2, 1)\t0.647149318753\n",
      "  (2, 2)\t0.690885608728\n",
      "  (2, 3)\t0.0962691907892\n",
      "  (2, 4)\t0.119718355233\n",
      "  (3, 0)\t0.360579434437\n",
      "  (3, 1)\t0.742784714683\n",
      "  (3, 2)\t0.887075414726\n",
      "  (3, 3)\t0.32505642688\n",
      "  (3, 4)\t0.620661729493\n",
      "  (4, 0)\t0.944086838331\n",
      "  (4, 1)\t0.144928626994\n",
      "  (4, 2)\t0.39102764688\n",
      "  (4, 3)\t0.949844134697\n",
      "  (4, 4)\t0.90032815039\n"
     ]
    }
   ],
   "source": [
    "a = sps.coo_matrix(np.random.rand(5,5))\n",
    "print(a)"
   ]
  },
  {
   "cell_type": "code",
   "execution_count": 3,
   "metadata": {},
   "outputs": [
    {
     "name": "stdout",
     "output_type": "stream",
     "text": [
      "True\n",
      "True\n"
     ]
    }
   ],
   "source": [
    "a = a.tocsr()\n",
    "print(isinstance(a, sps.csr_matrix))\n",
    "\n",
    "b = a * a.T\n",
    "\n",
    "print(isinstance(a, sps.csr_matrix))\n"
   ]
  },
  {
   "cell_type": "code",
   "execution_count": 4,
   "metadata": {},
   "outputs": [
    {
     "name": "stdout",
     "output_type": "stream",
     "text": [
      "(10000, 4986)\n",
      "csr: 1.8011391162872314 \n",
      "(10000, 4986)\n",
      "csc: 0.505141019821167 \n"
     ]
    }
   ],
   "source": [
    "a = sps.coo_matrix(np.random.rand(10000,10000))\n",
    "f = np.random.choice(a = [True,False], size = 10000, p = [0.5, 0.5])\n",
    "\n",
    "csr = a.tocsr()\n",
    "cp = time.time()\n",
    "print(csr[:,f].shape)\n",
    "print(\"csr: %s \"%(time.time()-cp))\n",
    "\n",
    "csc = a.tocsc()\n",
    "cp = time.time()\n",
    "print(csc[:,f].shape)\n",
    "print(\"csc: %s \"%(time.time()-cp))\n"
   ]
  },
  {
   "cell_type": "code",
   "execution_count": 5,
   "metadata": {},
   "outputs": [
    {
     "data": {
      "text/plain": [
       "(10000, 10000)"
      ]
     },
     "execution_count": 5,
     "metadata": {},
     "output_type": "execute_result"
    }
   ],
   "source": [
    "csc.shape"
   ]
  },
  {
   "cell_type": "code",
   "execution_count": 20,
   "metadata": {},
   "outputs": [
    {
     "name": "stdout",
     "output_type": "stream",
     "text": [
      "[[ 0.29385724  0.06505705  0.36877768]]\n"
     ]
    }
   ],
   "source": [
    "a = sps.csr_matrix(np.random.rand(5,5))\n",
    "f = sps.csr_matrix([True, False, True, False, True])\n",
    "print(a[f])"
   ]
  },
  {
   "cell_type": "code",
   "execution_count": 18,
   "metadata": {},
   "outputs": [
    {
     "name": "stdout",
     "output_type": "stream",
     "text": [
      "Converted matrix. 9.053355932235718 sec. 9.05438780784607 from start\n",
      "(20000, 20000)\n",
      "100000\n",
      "38.22781276702881 sec\n"
     ]
    }
   ],
   "source": [
    "def top_k(M, k):\n",
    "    starttime = time.time()\n",
    "\n",
    "    #mask = np.zeros(M.shape, dtype = bool)\n",
    "    rows = np.zeros((k*M.shape[0],), dtype = int)\n",
    "    cols = np.zeros((k*M.shape[0],), dtype = int)\n",
    "    vals = np.zeros((k*M.shape[0],), dtype = float)\n",
    "\n",
    "    i = 0\n",
    "    cp = time.time()\n",
    "    M = M.todense()\n",
    "    print(\"Converted matrix to dense, %s sec.\" %(time.time()-cp))\n",
    "    \n",
    "    for track_similarities in M:      \n",
    "        # Get top K indices\n",
    "        top_k_idx = np.argsort(track_similarities)[0,-k:]\n",
    "        \n",
    "        # Create filter\n",
    "        rows[k*i:k*(i+1)] = [i]*k\n",
    "        cols[k*i:k*(i+1)] = top_k_idx\n",
    "        top_k_vals = track_similarities[0, top_k_idx]\n",
    "        vals[k*i:k*(i+1)a] = top_k_vals\n",
    "        \n",
    "        \n",
    "        i += 1\n",
    "\n",
    "    M_top_k = sps.coo_matrix((vals, (rows, cols)), shape = M.shape, dtype = float).tocsr()\n",
    "    print(\"Computed M_top_k matrix in %s sec. \"%(time.time()-starttime))\n",
    "    return M_top_k\n",
    "\n",
    "\n",
    "a = sps.csr_matrix(np.random.rand(20000,20000))\n",
    "#print(a)\n",
    "cp = time.time()\n",
    "print(top_k(a, 5).nnz)\n",
    "print(\"%s sec\" %(time.time()-cp))"
   ]
  },
  {
   "cell_type": "code",
   "execution_count": 5,
   "metadata": {
    "collapsed": true
   },
   "outputs": [],
   "source": [
    "%load_ext Cython\n"
   ]
  },
  {
   "cell_type": "code",
   "execution_count": 17,
   "metadata": {},
   "outputs": [
    {
     "ename": "AttributeError",
     "evalue": "type object '_cython_magic_3ebe84f59a8ee294e7c2d7eb3f565609.arr' has no attribute '__reduce_cython__'",
     "output_type": "error",
     "traceback": [
      "\u001b[0;31m---------------------------------------------------------------------------\u001b[0m",
      "\u001b[0;31mAttributeError\u001b[0m                            Traceback (most recent call last)",
      "\u001b[0;32m<ipython-input-17-bae1c35c3510>\u001b[0m in \u001b[0;36m<module>\u001b[0;34m()\u001b[0m\n\u001b[0;32m----> 1\u001b[0;31m \u001b[0mget_ipython\u001b[0m\u001b[0;34m(\u001b[0m\u001b[0;34m)\u001b[0m\u001b[0;34m.\u001b[0m\u001b[0mrun_cell_magic\u001b[0m\u001b[0;34m(\u001b[0m\u001b[0;34m'cython'\u001b[0m\u001b[0;34m,\u001b[0m \u001b[0;34m''\u001b[0m\u001b[0;34m,\u001b[0m \u001b[0;34m'import numpy as np\\nimport time\\ncimport numpy as np\\nfrom cython.view cimport array as cvarray\\n\\ncdef get_rcv(M, k_in):\\n    #Takes dense matrix, returns rows, cols, vals. \\n    \\n    # Initiate lenghts. \\n    cdef int nrows = M.shape[0]\\n    cdef int ncols = M.shape[1]\\n    \\n    cdef i, j, \\n    cdef int k = k_in\\n    \\n    cdef np.ndarray[np.int32_t, ndim=1] rows = np.zeros(M.shape[0]*k, dtype=np.int32)\\n    cdef np.ndarray[np.int32_t, ndim=1] cols = np.zeros(M.shape[1]*k, dtype=np.int32)\\n    cdef np.ndarray[np.float32_t, ndim=1] vals = np.zeros(M.shape[0]*k, dtype=np.float32)\\n\\n    cdef np.ndarray[np.float32_t, ndim=1] top_k_vals = np.zeros(k, dtype=np.float32)\\n\\n    \\n\\n    \\n    narr = np.zeros(M.shape[1], dtype=np.float64)\\n    cdef double [:] track_similarities = narr\\n    \\n    narr = np.zeros(k, dtype=np.int32)\\n    cdef int [:] top_k_idx = narr\\n\\n    \\n    for i in range(nrows):\\n        track_similarities = M[i,:]\\n        print(\"asd\")\\n        # Get top K indices\\n        top_k_idx = np.argsort(track_similarities)[-k:]\\n        print(top_k_idx)\\n        # Create new matrix        \\n        for j in range(k): \\n            rows[k*i+j] = i\\n\\n        \\n        for j in range(len(top_k_idx)): \\n            cols[k*i+j] = top_k_idx[j]\\n        \\n            \\n        for j in range(k): \\n            top_k_vals[j] = track_similarities[top_k_idx[j]]\\n        \\n        \\n        for j in range(len(top_k_vals)):\\n            vals[k*i+j] = top_k_vals[j]\\n\\n        \\n        i = i+1\\n        \\n        if (i % 100 == 0):\\n            print(i)\\n\\n    return rows, cols, vals\\ncp = time.time()\\na = np.random.rand(1000,1000)\\nget_rcv(a, 20)\\nprint(time.time()-cp)'\u001b[0m\u001b[0;34m)\u001b[0m\u001b[0;34m\u001b[0m\u001b[0m\n\u001b[0m",
      "\u001b[0;32m~/anaconda3/lib/python3.6/site-packages/IPython/core/interactiveshell.py\u001b[0m in \u001b[0;36mrun_cell_magic\u001b[0;34m(self, magic_name, line, cell)\u001b[0m\n\u001b[1;32m   2101\u001b[0m             \u001b[0mmagic_arg_s\u001b[0m \u001b[0;34m=\u001b[0m \u001b[0mself\u001b[0m\u001b[0;34m.\u001b[0m\u001b[0mvar_expand\u001b[0m\u001b[0;34m(\u001b[0m\u001b[0mline\u001b[0m\u001b[0;34m,\u001b[0m \u001b[0mstack_depth\u001b[0m\u001b[0;34m)\u001b[0m\u001b[0;34m\u001b[0m\u001b[0m\n\u001b[1;32m   2102\u001b[0m             \u001b[0;32mwith\u001b[0m \u001b[0mself\u001b[0m\u001b[0;34m.\u001b[0m\u001b[0mbuiltin_trap\u001b[0m\u001b[0;34m:\u001b[0m\u001b[0;34m\u001b[0m\u001b[0m\n\u001b[0;32m-> 2103\u001b[0;31m                 \u001b[0mresult\u001b[0m \u001b[0;34m=\u001b[0m \u001b[0mfn\u001b[0m\u001b[0;34m(\u001b[0m\u001b[0mmagic_arg_s\u001b[0m\u001b[0;34m,\u001b[0m \u001b[0mcell\u001b[0m\u001b[0;34m)\u001b[0m\u001b[0;34m\u001b[0m\u001b[0m\n\u001b[0m\u001b[1;32m   2104\u001b[0m             \u001b[0;32mreturn\u001b[0m \u001b[0mresult\u001b[0m\u001b[0;34m\u001b[0m\u001b[0m\n\u001b[1;32m   2105\u001b[0m \u001b[0;34m\u001b[0m\u001b[0m\n",
      "\u001b[0;32m<decorator-gen-127>\u001b[0m in \u001b[0;36mcython\u001b[0;34m(self, line, cell)\u001b[0m\n",
      "\u001b[0;32m~/anaconda3/lib/python3.6/site-packages/IPython/core/magic.py\u001b[0m in \u001b[0;36m<lambda>\u001b[0;34m(f, *a, **k)\u001b[0m\n\u001b[1;32m    185\u001b[0m     \u001b[0;31m# but it's overkill for just that one bit of state.\u001b[0m\u001b[0;34m\u001b[0m\u001b[0;34m\u001b[0m\u001b[0m\n\u001b[1;32m    186\u001b[0m     \u001b[0;32mdef\u001b[0m \u001b[0mmagic_deco\u001b[0m\u001b[0;34m(\u001b[0m\u001b[0marg\u001b[0m\u001b[0;34m)\u001b[0m\u001b[0;34m:\u001b[0m\u001b[0;34m\u001b[0m\u001b[0m\n\u001b[0;32m--> 187\u001b[0;31m         \u001b[0mcall\u001b[0m \u001b[0;34m=\u001b[0m \u001b[0;32mlambda\u001b[0m \u001b[0mf\u001b[0m\u001b[0;34m,\u001b[0m \u001b[0;34m*\u001b[0m\u001b[0ma\u001b[0m\u001b[0;34m,\u001b[0m \u001b[0;34m**\u001b[0m\u001b[0mk\u001b[0m\u001b[0;34m:\u001b[0m \u001b[0mf\u001b[0m\u001b[0;34m(\u001b[0m\u001b[0;34m*\u001b[0m\u001b[0ma\u001b[0m\u001b[0;34m,\u001b[0m \u001b[0;34m**\u001b[0m\u001b[0mk\u001b[0m\u001b[0;34m)\u001b[0m\u001b[0;34m\u001b[0m\u001b[0m\n\u001b[0m\u001b[1;32m    188\u001b[0m \u001b[0;34m\u001b[0m\u001b[0m\n\u001b[1;32m    189\u001b[0m         \u001b[0;32mif\u001b[0m \u001b[0mcallable\u001b[0m\u001b[0;34m(\u001b[0m\u001b[0marg\u001b[0m\u001b[0;34m)\u001b[0m\u001b[0;34m:\u001b[0m\u001b[0;34m\u001b[0m\u001b[0m\n",
      "\u001b[0;32m~/anaconda3/lib/python3.6/site-packages/Cython/Build/IpythonMagic.py\u001b[0m in \u001b[0;36mcython\u001b[0;34m(self, line, cell)\u001b[0m\n\u001b[1;32m    307\u001b[0m             \u001b[0mself\u001b[0m\u001b[0;34m.\u001b[0m\u001b[0m_code_cache\u001b[0m\u001b[0;34m[\u001b[0m\u001b[0mkey\u001b[0m\u001b[0;34m]\u001b[0m \u001b[0;34m=\u001b[0m \u001b[0mmodule_name\u001b[0m\u001b[0;34m\u001b[0m\u001b[0m\n\u001b[1;32m    308\u001b[0m \u001b[0;34m\u001b[0m\u001b[0m\n\u001b[0;32m--> 309\u001b[0;31m         \u001b[0mmodule\u001b[0m \u001b[0;34m=\u001b[0m \u001b[0mimp\u001b[0m\u001b[0;34m.\u001b[0m\u001b[0mload_dynamic\u001b[0m\u001b[0;34m(\u001b[0m\u001b[0mmodule_name\u001b[0m\u001b[0;34m,\u001b[0m \u001b[0mmodule_path\u001b[0m\u001b[0;34m)\u001b[0m\u001b[0;34m\u001b[0m\u001b[0m\n\u001b[0m\u001b[1;32m    310\u001b[0m         \u001b[0mself\u001b[0m\u001b[0;34m.\u001b[0m\u001b[0m_import_all\u001b[0m\u001b[0;34m(\u001b[0m\u001b[0mmodule\u001b[0m\u001b[0;34m)\u001b[0m\u001b[0;34m\u001b[0m\u001b[0m\n\u001b[1;32m    311\u001b[0m \u001b[0;34m\u001b[0m\u001b[0m\n",
      "\u001b[0;32m~/anaconda3/lib/python3.6/imp.py\u001b[0m in \u001b[0;36mload_dynamic\u001b[0;34m(name, path, file)\u001b[0m\n\u001b[1;32m    340\u001b[0m         spec = importlib.machinery.ModuleSpec(\n\u001b[1;32m    341\u001b[0m             name=name, loader=loader, origin=path)\n\u001b[0;32m--> 342\u001b[0;31m         \u001b[0;32mreturn\u001b[0m \u001b[0m_load\u001b[0m\u001b[0;34m(\u001b[0m\u001b[0mspec\u001b[0m\u001b[0;34m)\u001b[0m\u001b[0;34m\u001b[0m\u001b[0m\n\u001b[0m\u001b[1;32m    343\u001b[0m \u001b[0;34m\u001b[0m\u001b[0m\n\u001b[1;32m    344\u001b[0m \u001b[0;32melse\u001b[0m\u001b[0;34m:\u001b[0m\u001b[0;34m\u001b[0m\u001b[0m\n",
      "\u001b[0;32m~/anaconda3/lib/python3.6/importlib/_bootstrap.py\u001b[0m in \u001b[0;36m_load\u001b[0;34m(spec)\u001b[0m\n",
      "\u001b[0;32m~/anaconda3/lib/python3.6/importlib/_bootstrap.py\u001b[0m in \u001b[0;36m_load_unlocked\u001b[0;34m(spec)\u001b[0m\n",
      "\u001b[0;32m~/anaconda3/lib/python3.6/importlib/_bootstrap.py\u001b[0m in \u001b[0;36mmodule_from_spec\u001b[0;34m(spec)\u001b[0m\n",
      "\u001b[0;32m~/anaconda3/lib/python3.6/importlib/_bootstrap_external.py\u001b[0m in \u001b[0;36mcreate_module\u001b[0;34m(self, spec)\u001b[0m\n",
      "\u001b[0;32m~/anaconda3/lib/python3.6/importlib/_bootstrap.py\u001b[0m in \u001b[0;36m_call_with_frames_removed\u001b[0;34m(f, *args, **kwds)\u001b[0m\n",
      "\u001b[0;32mstringsource\u001b[0m in \u001b[0;36minit _cython_magic_3ebe84f59a8ee294e7c2d7eb3f565609\u001b[0;34m()\u001b[0m\n",
      "\u001b[0;31mAttributeError\u001b[0m: type object '_cython_magic_3ebe84f59a8ee294e7c2d7eb3f565609.arr' has no attribute '__reduce_cython__'"
     ]
    }
   ],
   "source": [
    "%%cython\n",
    "import numpy as np\n",
    "import time\n",
    "cimport numpy as np\n",
    "from cython.view cimport array as cvarray\n",
    "\n",
    "cdef get_rcv(M, k_in):\n",
    "    #Takes dense matrix, returns rows, cols, vals. \n",
    "    \n",
    "    # Initiate lenghts. \n",
    "    cdef int nrows = M.shape[0]\n",
    "    cdef int ncols = M.shape[1]\n",
    "    \n",
    "    cdef i, j, \n",
    "    cdef int k = k_in\n",
    "    \n",
    "    cdef np.ndarray[np.int32_t, ndim=1] rows = np.zeros(M.shape[0]*k, dtype=np.int32)\n",
    "    cdef np.ndarray[np.int32_t, ndim=1] cols = np.zeros(M.shape[1]*k, dtype=np.int32)\n",
    "    cdef np.ndarray[np.float32_t, ndim=1] vals = np.zeros(M.shape[0]*k, dtype=np.float32)\n",
    "\n",
    "    cdef np.ndarray[np.float32_t, ndim=1] top_k_vals = np.zeros(k, dtype=np.float32)\n",
    "\n",
    "    \n",
    "\n",
    "    \n",
    "    narr = np.zeros(M.shape[1], dtype=np.float64)\n",
    "    cdef double [:] track_similarities = narr\n",
    "    \n",
    "    narr = np.zeros(k, dtype=np.int32)\n",
    "    cdef int [:] top_k_idx = narr\n",
    "\n",
    "    \n",
    "    for i in range(nrows):\n",
    "        track_similarities = M[i,:]\n",
    "        print(\"asd\")\n",
    "        # Get top K indices\n",
    "        top_k_idx = np.argsort(track_similarities)[-k:]\n",
    "        print(top_k_idx)\n",
    "        # Create new matrix        \n",
    "        for j in range(k): \n",
    "            rows[k*i+j] = i\n",
    "\n",
    "        \n",
    "        for j in range(len(top_k_idx)): \n",
    "            cols[k*i+j] = top_k_idx[j]\n",
    "        \n",
    "            \n",
    "        for j in range(k): \n",
    "            top_k_vals[j] = track_similarities[top_k_idx[j]]\n",
    "        \n",
    "        \n",
    "        for j in range(len(top_k_vals)):\n",
    "            vals[k*i+j] = top_k_vals[j]\n",
    "\n",
    "        \n",
    "        i = i+1\n",
    "        \n",
    "        if (i % 100 == 0):\n",
    "            print(i)\n",
    "\n",
    "    return rows, cols, vals\n",
    "cp = time.time()\n",
    "a = np.random.rand(1000,1000)\n",
    "get_rcv(a, 20)\n",
    "print(time.time()-cp)"
   ]
  },
  {
   "cell_type": "code",
   "execution_count": 93,
   "metadata": {},
   "outputs": [
    {
     "ename": "SyntaxError",
     "evalue": "invalid syntax (<ipython-input-93-b6b684354e96>, line 1)",
     "output_type": "error",
     "traceback": [
      "\u001b[0;36m  File \u001b[0;32m\"<ipython-input-93-b6b684354e96>\"\u001b[0;36m, line \u001b[0;32m1\u001b[0m\n\u001b[0;31m    1k: 0.07 s\u001b[0m\n\u001b[0m     ^\u001b[0m\n\u001b[0;31mSyntaxError\u001b[0m\u001b[0;31m:\u001b[0m invalid syntax\n"
     ]
    }
   ],
   "source": [
    "1k: 0.07 s\n",
    "10k: 8 s\n",
    "20k: 36 s\n",
    "\n"
   ]
  },
  {
   "cell_type": "code",
   "execution_count": null,
   "metadata": {
    "collapsed": true
   },
   "outputs": [],
   "source": []
  }
 ],
 "metadata": {
  "kernelspec": {
   "display_name": "Python 3",
   "language": "python",
   "name": "python3"
  },
  "language_info": {
   "codemirror_mode": {
    "name": "ipython",
    "version": 3
   },
   "file_extension": ".py",
   "mimetype": "text/x-python",
   "name": "python",
   "nbconvert_exporter": "python",
   "pygments_lexer": "ipython3",
   "version": "3.6.2"
  }
 },
 "nbformat": 4,
 "nbformat_minor": 2
}
