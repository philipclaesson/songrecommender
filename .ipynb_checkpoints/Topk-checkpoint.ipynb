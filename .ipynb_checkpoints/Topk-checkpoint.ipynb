{
 "cells": [
  {
   "cell_type": "code",
   "execution_count": 1,
   "metadata": {},
   "outputs": [
    {
     "name": "stdout",
     "output_type": "stream",
     "text": [
      "Libs imported.\n"
     ]
    }
   ],
   "source": [
    "# Do all relevant imports\n",
    "import numpy as np\n",
    "import pandas as pd\n",
    "import seaborn as sns\n",
    "import matplotlib.pyplot as plt\n",
    "import scipy.sparse as sps\n",
    "import time\n",
    "%matplotlib inline\n",
    "print(\"Libs imported.\")"
   ]
  },
  {
   "cell_type": "code",
   "execution_count": 3,
   "metadata": {},
   "outputs": [
    {
     "name": "stdout",
     "output_type": "stream",
     "text": [
      "  (0, 0)\t0.763695081352\n",
      "  (0, 1)\t0.477116463808\n",
      "  (0, 2)\t0.946438497639\n",
      "  (0, 3)\t0.92967698307\n",
      "  (0, 4)\t0.750708246711\n",
      "  (1, 0)\t0.567788195376\n",
      "  (1, 1)\t0.859252259338\n",
      "  (1, 2)\t0.047502630379\n",
      "  (1, 3)\t0.937218467933\n",
      "  (1, 4)\t0.171391987489\n",
      "  (2, 0)\t0.170982394273\n",
      "  (2, 1)\t0.653001643699\n",
      "  (2, 2)\t0.104473507036\n",
      "  (2, 3)\t0.278133554732\n",
      "  (2, 4)\t0.252061963629\n",
      "  (3, 0)\t0.134832532859\n",
      "  (3, 1)\t0.64621322961\n",
      "  (3, 2)\t0.0539179639044\n",
      "  (3, 3)\t0.16928238793\n",
      "  (3, 4)\t0.839566786191\n",
      "  (4, 0)\t0.192787265213\n",
      "  (4, 1)\t0.38722150373\n",
      "  (4, 2)\t0.803520321225\n",
      "  (4, 3)\t0.419630878005\n",
      "  (4, 4)\t0.80417993399\n"
     ]
    }
   ],
   "source": [
    "a = sps.coo_matrix(np.random.rand(5,5))\n",
    "print(a)"
   ]
  },
  {
   "cell_type": "code",
   "execution_count": 8,
   "metadata": {},
   "outputs": [
    {
     "name": "stdout",
     "output_type": "stream",
     "text": [
      "True\n",
      "True\n",
      "False\n"
     ]
    }
   ],
   "source": [
    "a = a.tocsr()\n",
    "print(isinstance(a, sps.csr_matrix))\n",
    "\n",
    "b = a * a.T\n",
    "\n",
    "print(isinstance(a, sps.csr_matrix))\n"
   ]
  },
  {
   "cell_type": "code",
   "execution_count": 14,
   "metadata": {},
   "outputs": [
    {
     "name": "stdout",
     "output_type": "stream",
     "text": [
      "(10000, 5115)\n",
      "csr: 1.6650059223175049 \n",
      "(10000, 5115)\n",
      "csc: 0.5554509162902832 \n"
     ]
    }
   ],
   "source": [
    "a = sps.coo_matrix(np.random.rand(10000,10000))\n",
    "f = np.random.choice(a = [True,False], size = 10000, p = [0.5, 0.5])\n",
    "\n",
    "csr = a.tocsr()\n",
    "cp = time.time()\n",
    "print(csr[:,f].shape)\n",
    "print(\"csr: %s \"%(time.time()-cp))\n",
    "\n",
    "csc = a.tocsc()\n",
    "cp = time.time()\n",
    "print(csc[:,f].shape)\n",
    "print(\"csc: %s \"%(time.time()-cp))\n"
   ]
  },
  {
   "cell_type": "code",
   "execution_count": 11,
   "metadata": {},
   "outputs": [
    {
     "data": {
      "text/plain": [
       "(10000, 10000)"
      ]
     },
     "execution_count": 11,
     "metadata": {},
     "output_type": "execute_result"
    }
   ],
   "source": [
    "csc.shape"
   ]
  },
  {
   "cell_type": "code",
   "execution_count": 20,
   "metadata": {},
   "outputs": [
    {
     "name": "stdout",
     "output_type": "stream",
     "text": [
      "[[ 0.29385724  0.06505705  0.36877768]]\n"
     ]
    }
   ],
   "source": [
    "a = sps.csr_matrix(np.random.rand(5,5))\n",
    "f = sps.csr_matrix([True, False, True, False, True])\n",
    "print(a[f])"
   ]
  },
  {
   "cell_type": "code",
   "execution_count": 77,
   "metadata": {},
   "outputs": [
    {
     "name": "stdout",
     "output_type": "stream",
     "text": [
      "  (0, 0)\t0.565551759521\n",
      "  (0, 1)\t0.873292950312\n",
      "  (0, 2)\t0.482290026984\n",
      "  (0, 3)\t0.84566854249\n",
      "  (0, 4)\t0.601989017937\n"
     ]
    },
    {
     "ename": "ValueError",
     "evalue": "could not broadcast input array from shape (5) into shape (2)",
     "output_type": "error",
     "traceback": [
      "\u001b[0;31m---------------------------------------------------------------------------\u001b[0m",
      "\u001b[0;31mValueError\u001b[0m                                Traceback (most recent call last)",
      "\u001b[0;32m<ipython-input-77-6119f7a6b879>\u001b[0m in \u001b[0;36m<module>\u001b[0;34m()\u001b[0m\n\u001b[1;32m     33\u001b[0m \u001b[0ma\u001b[0m \u001b[0;34m=\u001b[0m \u001b[0msps\u001b[0m\u001b[0;34m.\u001b[0m\u001b[0mcsr_matrix\u001b[0m\u001b[0;34m(\u001b[0m\u001b[0mnp\u001b[0m\u001b[0;34m.\u001b[0m\u001b[0mrandom\u001b[0m\u001b[0;34m.\u001b[0m\u001b[0mrand\u001b[0m\u001b[0;34m(\u001b[0m\u001b[0;36m5\u001b[0m\u001b[0;34m,\u001b[0m\u001b[0;36m5\u001b[0m\u001b[0;34m)\u001b[0m\u001b[0;34m)\u001b[0m\u001b[0;34m\u001b[0m\u001b[0m\n\u001b[1;32m     34\u001b[0m \u001b[0;31m#print(a)\u001b[0m\u001b[0;34m\u001b[0m\u001b[0;34m\u001b[0m\u001b[0m\n\u001b[0;32m---> 35\u001b[0;31m \u001b[0mprint\u001b[0m\u001b[0;34m(\u001b[0m\u001b[0mtop_k\u001b[0m\u001b[0;34m(\u001b[0m\u001b[0ma\u001b[0m\u001b[0;34m,\u001b[0m \u001b[0;36m2\u001b[0m\u001b[0;34m)\u001b[0m\u001b[0;34m)\u001b[0m\u001b[0;34m\u001b[0m\u001b[0m\n\u001b[0m",
      "\u001b[0;32m<ipython-input-77-6119f7a6b879>\u001b[0m in \u001b[0;36mtop_k\u001b[0;34m(M, k)\u001b[0m\n\u001b[1;32m     21\u001b[0m         \u001b[0mtop_k_vals\u001b[0m \u001b[0;34m=\u001b[0m \u001b[0mtrack_similarities\u001b[0m\u001b[0;34m[\u001b[0m\u001b[0mtop_k_idx\u001b[0m\u001b[0;34m]\u001b[0m\u001b[0;34m.\u001b[0m\u001b[0mtodense\u001b[0m\u001b[0;34m(\u001b[0m\u001b[0;34m)\u001b[0m\u001b[0;34m[\u001b[0m\u001b[0;36m0\u001b[0m\u001b[0;34m]\u001b[0m\u001b[0;34m\u001b[0m\u001b[0m\n\u001b[1;32m     22\u001b[0m         \u001b[0;31m#print(top_k_vals)\u001b[0m\u001b[0;34m\u001b[0m\u001b[0;34m\u001b[0m\u001b[0m\n\u001b[0;32m---> 23\u001b[0;31m         \u001b[0mvals\u001b[0m\u001b[0;34m[\u001b[0m\u001b[0mk\u001b[0m\u001b[0;34m*\u001b[0m\u001b[0mi\u001b[0m\u001b[0;34m:\u001b[0m\u001b[0mk\u001b[0m\u001b[0;34m*\u001b[0m\u001b[0;34m(\u001b[0m\u001b[0mi\u001b[0m\u001b[0;34m+\u001b[0m\u001b[0;36m1\u001b[0m\u001b[0;34m)\u001b[0m\u001b[0;34m]\u001b[0m \u001b[0;34m=\u001b[0m \u001b[0mtop_k_vals\u001b[0m\u001b[0;34m\u001b[0m\u001b[0m\n\u001b[0m\u001b[1;32m     24\u001b[0m \u001b[0;34m\u001b[0m\u001b[0m\n\u001b[1;32m     25\u001b[0m \u001b[0;34m\u001b[0m\u001b[0m\n",
      "\u001b[0;31mValueError\u001b[0m: could not broadcast input array from shape (5) into shape (2)"
     ]
    }
   ],
   "source": [
    "def top_k(M, k):\n",
    "    # Takes Matrix (should probably be CSR).\n",
    "    if not isinstance(M, sps.csr_matrix):\n",
    "        print(\"M not CSR in tok_K function.\")\n",
    "\n",
    "    #mask = np.zeros(M.shape, dtype = bool)\n",
    "    rows = np.zeros((k*M.shape[0],), dtype = int)\n",
    "    cols = np.zeros((k*M.shape[0],), dtype = int)\n",
    "    vals = np.ones((k*M.shape[0],), dtype = int)\n",
    "\n",
    "    #M = check_matrix(M, 'csr')\n",
    "    i = 0\n",
    "    for track_similarities in M: #Kanske inte funkar? \n",
    "        print(track_similarities)\n",
    "        # Get top K indices\n",
    "        top_k_idx = np.argsort(track_similarities)[-k:]\n",
    "        #print(top_k_idx)\n",
    "        # Create filter\n",
    "        rows[k*i:k*(i+1)] = [i]*k\n",
    "        cols[k*i:k*(i+1)] = top_k_idx\n",
    "        top_k_vals = track_similarities[top_k_idx].todense()[0]\n",
    "        #print(top_k_vals)\n",
    "        vals[k*i:k*(i+1)] = top_k_vals\n",
    "        \n",
    "        \n",
    "        i += 1\n",
    "\n",
    "    #vals = [True]*rows.shape[0]\n",
    "    mask = sps.coo_matrix((vals, (rows, cols)), shape = M.shape, dtype = bool).tocsr()\n",
    "    print(mask.shape)\n",
    "    return M[mask]\n",
    "\n",
    "a = sps.csr_matrix(np.random.rand(5,5))\n",
    "#print(a)\n",
    "print(top_k(a, 2))"
   ]
  },
  {
   "cell_type": "code",
   "execution_count": null,
   "metadata": {
    "collapsed": true
   },
   "outputs": [],
   "source": []
  },
  {
   "cell_type": "code",
   "execution_count": null,
   "metadata": {
    "collapsed": true
   },
   "outputs": [],
   "source": []
  }
 ],
 "metadata": {
  "kernelspec": {
   "display_name": "Python 3",
   "language": "python",
   "name": "python3"
  },
  "language_info": {
   "codemirror_mode": {
    "name": "ipython",
    "version": 3
   },
   "file_extension": ".py",
   "mimetype": "text/x-python",
   "name": "python",
   "nbconvert_exporter": "python",
   "pygments_lexer": "ipython3",
   "version": "3.6.2"
  }
 },
 "nbformat": 4,
 "nbformat_minor": 2
}
