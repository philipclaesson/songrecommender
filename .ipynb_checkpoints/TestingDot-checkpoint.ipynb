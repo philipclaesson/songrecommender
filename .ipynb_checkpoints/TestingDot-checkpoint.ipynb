{
 "cells": [
  {
   "cell_type": "code",
   "execution_count": 1,
   "metadata": {
    "collapsed": true
   },
   "outputs": [],
   "source": [
    "# Do all relevant imports\n",
    "import numpy as np\n",
    "import pandas as pd\n",
    "import seaborn as sns\n",
    "import matplotlib.pyplot as plt\n",
    "import scipy.sparse as sps\n",
    "import time\n",
    "import scipy\n",
    "import tables as tb"
   ]
  },
  {
   "cell_type": "code",
   "execution_count": 6,
   "metadata": {
    "collapsed": true
   },
   "outputs": [],
   "source": [
    "class Matrix_multiplicator(object): \n",
    "    def __init__(self):\n",
    "        self.bl = 500 #this is the number of rows we calculate each loop\n",
    "    \n",
    "    def dot(self, m1, m2, filename, result_format = 'csr'): \n",
    "        starttime = time.time()\n",
    "        \n",
    "        l, m, n = m1.shape[0], m1.shape[1], m2.shape[1]\n",
    "\n",
    "        self.f = tb.open_file(filename, 'w')\n",
    "        filters = tb.Filters(complevel=5, complib='blosc')\n",
    "        \n",
    "        out_data = self.f.create_earray(self.f.root, 'data', tb.Float32Atom(), shape=(0,), filters=filters)\n",
    "        out_indices = self.f.create_earray(self.f.root, 'indices', tb.Int64Atom(),shape=(0,), filters=filters)\n",
    "        out_indptr = self.f.create_earray(self.f.root, 'indptr', tb.Int64Atom(), shape=(0,), filters=filters)\n",
    "        out_indptr.append(np.array([0])) #this is needed as a first indptr\n",
    "        max_indptr = 0\n",
    "        print(\"Heading into loop. %s sec\"%(time.time()-starttime))\n",
    "        cp = time.time()\n",
    "        for i in range(0, l, self.bl):\n",
    "            if i % 5000 == 0 or i == 500: \n",
    "                print(\"Row %s out of %s, %s min.\"%(i, l, (time.time()-cp)/60))\n",
    "                cp = time.time()\n",
    "            res = m1[i:min(i+self.bl, l),:].dot(m2)\n",
    "            out_data.append(res.data)\n",
    "            indices = res.indices\n",
    "            indptr = res.indptr\n",
    "            out_indices.append(indices)\n",
    "            out_indptr.append(max_indptr+indptr[1:])\n",
    "            max_indptr += indices.shape[0]\n",
    "            \n",
    "        if result_format == 'csr': \n",
    "            m = sps.csr_matrix((self.f.root.data[:], self.f.root.indices[:], self.f.root.indptr[:]), shape=(l,n))\n",
    "        elif result_format == 'csc': \n",
    "            m = sps.csc_matrix((self.f.root.data[:], self.f.root.indices[:], self.f.root.indptr[:]), shape=(l,n))\n",
    "        \n",
    "        self.f.close()\n",
    "        print(\"Calculated m.dot() to %s. %s sec\" %(filename, time.time()-starttime))\n",
    "        \n",
    "    def get_result(self, filename, l, n, result_format = 'csr'):\n",
    "        self.h5 = tb.open_file(filename, 'r')\n",
    "        if result_format == 'csr':\n",
    "            m = sps.csr_matrix((self.h5.root.data[:], self.h5.root.indices[:], self.h5.root.indptr[:]), self.shape=(l,n))\n",
    "        elif result_format == 'csc': \n",
    "            m = sps.csc_matrix((self.h5.root.data[:], self.h5.root.indices[:], self.h5.root.indptr[:]), shape=(l,n))\n",
    "        self.h5.close()\n",
    "        return m\n",
    "m = Matrix_multiplicator()"
   ]
  },
  {
   "cell_type": "code",
   "execution_count": 11,
   "metadata": {
    "collapsed": true
   },
   "outputs": [],
   "source": [
    "a = sps.rand(100, 100).tocsr()\n",
    "b = sps.rand(100, 100).tocsc()"
   ]
  },
  {
   "cell_type": "code",
   "execution_count": 12,
   "metadata": {},
   "outputs": [
    {
     "name": "stdout",
     "output_type": "stream",
     "text": [
      "100\n"
     ]
    }
   ],
   "source": [
    "print(a.nnz)"
   ]
  },
  {
   "cell_type": "code",
   "execution_count": 14,
   "metadata": {},
   "outputs": [
    {
     "ename": "ValueError",
     "evalue": "The file 'h5/test.h5' is already opened.  Please close it before reopening in write mode.",
     "output_type": "error",
     "traceback": [
      "\u001b[0;31m---------------------------------------------------------------------------\u001b[0m",
      "\u001b[0;31mValueError\u001b[0m                                Traceback (most recent call last)",
      "\u001b[0;32m<ipython-input-14-442f114dcd5f>\u001b[0m in \u001b[0;36m<module>\u001b[0;34m()\u001b[0m\n\u001b[0;32m----> 1\u001b[0;31m \u001b[0mc\u001b[0m \u001b[0;34m=\u001b[0m \u001b[0mm\u001b[0m\u001b[0;34m.\u001b[0m\u001b[0mdot\u001b[0m\u001b[0;34m(\u001b[0m\u001b[0ma\u001b[0m\u001b[0;34m,\u001b[0m\u001b[0mb\u001b[0m\u001b[0;34m,\u001b[0m\u001b[0;34m'h5/test.h5'\u001b[0m\u001b[0;34m)\u001b[0m\u001b[0;34m\u001b[0m\u001b[0m\n\u001b[0m\u001b[1;32m      2\u001b[0m \u001b[0mprint\u001b[0m\u001b[0;34m(\u001b[0m\u001b[0mm\u001b[0m\u001b[0;34m.\u001b[0m\u001b[0mget_result\u001b[0m\u001b[0;34m(\u001b[0m\u001b[0;34m'h5/test.h5'\u001b[0m\u001b[0;34m,\u001b[0m \u001b[0;36m100\u001b[0m\u001b[0;34m,\u001b[0m \u001b[0;36m100\u001b[0m\u001b[0;34m)\u001b[0m\u001b[0;34m)\u001b[0m\u001b[0;34m\u001b[0m\u001b[0m\n",
      "\u001b[0;32m<ipython-input-6-c8077355c325>\u001b[0m in \u001b[0;36mdot\u001b[0;34m(self, m1, m2, filename, result_format)\u001b[0m\n\u001b[1;32m      8\u001b[0m         \u001b[0ml\u001b[0m\u001b[0;34m,\u001b[0m \u001b[0mm\u001b[0m\u001b[0;34m,\u001b[0m \u001b[0mn\u001b[0m \u001b[0;34m=\u001b[0m \u001b[0mm1\u001b[0m\u001b[0;34m.\u001b[0m\u001b[0mshape\u001b[0m\u001b[0;34m[\u001b[0m\u001b[0;36m0\u001b[0m\u001b[0;34m]\u001b[0m\u001b[0;34m,\u001b[0m \u001b[0mm1\u001b[0m\u001b[0;34m.\u001b[0m\u001b[0mshape\u001b[0m\u001b[0;34m[\u001b[0m\u001b[0;36m1\u001b[0m\u001b[0;34m]\u001b[0m\u001b[0;34m,\u001b[0m \u001b[0mm2\u001b[0m\u001b[0;34m.\u001b[0m\u001b[0mshape\u001b[0m\u001b[0;34m[\u001b[0m\u001b[0;36m1\u001b[0m\u001b[0;34m]\u001b[0m\u001b[0;34m\u001b[0m\u001b[0m\n\u001b[1;32m      9\u001b[0m \u001b[0;34m\u001b[0m\u001b[0m\n\u001b[0;32m---> 10\u001b[0;31m         \u001b[0mself\u001b[0m\u001b[0;34m.\u001b[0m\u001b[0mf\u001b[0m \u001b[0;34m=\u001b[0m \u001b[0mtb\u001b[0m\u001b[0;34m.\u001b[0m\u001b[0mopen_file\u001b[0m\u001b[0;34m(\u001b[0m\u001b[0mfilename\u001b[0m\u001b[0;34m,\u001b[0m \u001b[0;34m'w'\u001b[0m\u001b[0;34m)\u001b[0m\u001b[0;34m\u001b[0m\u001b[0m\n\u001b[0m\u001b[1;32m     11\u001b[0m         \u001b[0mfilters\u001b[0m \u001b[0;34m=\u001b[0m \u001b[0mtb\u001b[0m\u001b[0;34m.\u001b[0m\u001b[0mFilters\u001b[0m\u001b[0;34m(\u001b[0m\u001b[0mcomplevel\u001b[0m\u001b[0;34m=\u001b[0m\u001b[0;36m5\u001b[0m\u001b[0;34m,\u001b[0m \u001b[0mcomplib\u001b[0m\u001b[0;34m=\u001b[0m\u001b[0;34m'blosc'\u001b[0m\u001b[0;34m)\u001b[0m\u001b[0;34m\u001b[0m\u001b[0m\n\u001b[1;32m     12\u001b[0m \u001b[0;34m\u001b[0m\u001b[0m\n",
      "\u001b[0;32m~/anaconda3/lib/python3.6/site-packages/tables/file.py\u001b[0m in \u001b[0;36mopen_file\u001b[0;34m(filename, mode, title, root_uep, filters, **kwargs)\u001b[0m\n\u001b[1;32m    315\u001b[0m                 raise ValueError(\n\u001b[1;32m    316\u001b[0m                     \u001b[0;34m\"The file '%s' is already opened.  Please \"\u001b[0m\u001b[0;34m\u001b[0m\u001b[0m\n\u001b[0;32m--> 317\u001b[0;31m                     \"close it before reopening in write mode.\" % filename)\n\u001b[0m\u001b[1;32m    318\u001b[0m \u001b[0;34m\u001b[0m\u001b[0m\n\u001b[1;32m    319\u001b[0m     \u001b[0;31m# Finally, create the File instance, and return it\u001b[0m\u001b[0;34m\u001b[0m\u001b[0;34m\u001b[0m\u001b[0m\n",
      "\u001b[0;31mValueError\u001b[0m: The file 'h5/test.h5' is already opened.  Please close it before reopening in write mode."
     ]
    }
   ],
   "source": [
    "c = m.dot(a,b,'h5/test.h5')\n",
    "print(m.get_result('h5/test.h5', 100, 100))"
   ]
  },
  {
   "cell_type": "code",
   "execution_count": null,
   "metadata": {
    "collapsed": true
   },
   "outputs": [],
   "source": []
  }
 ],
 "metadata": {
  "kernelspec": {
   "display_name": "Python 3",
   "language": "python",
   "name": "python3"
  },
  "language_info": {
   "codemirror_mode": {
    "name": "ipython",
    "version": 3
   },
   "file_extension": ".py",
   "mimetype": "text/x-python",
   "name": "python",
   "nbconvert_exporter": "python",
   "pygments_lexer": "ipython3",
   "version": "3.6.2"
  }
 },
 "nbformat": 4,
 "nbformat_minor": 2
}
